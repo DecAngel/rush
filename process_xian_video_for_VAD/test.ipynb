{
 "metadata": {
  "language_info": {
   "codemirror_mode": {
    "name": "ipython",
    "version": 3
   },
   "file_extension": ".py",
   "mimetype": "text/x-python",
   "name": "python",
   "nbconvert_exporter": "python",
   "pygments_lexer": "ipython3",
   "version": "3.9.1"
  },
  "orig_nbformat": 2,
  "kernelspec": {
   "name": "python391jvsc74a57bd01cf78cca13970d80a338afa68b61a5f69aebb270b5c839e5bacde3a2a105ceb4",
   "display_name": "Python 3.9.1 64-bit ('pytorch17': conda)"
  }
 },
 "nbformat": 4,
 "nbformat_minor": 2,
 "cells": [
  {
   "source": [
    "# Transform the label files to be consistent with the directory"
   ],
   "cell_type": "markdown",
   "metadata": {}
  },
  {
   "cell_type": "code",
   "execution_count": 21,
   "metadata": {},
   "outputs": [],
   "source": [
    "import pandas as pd\n",
    "import datetime\n"
   ]
  },
  {
   "source": [
    "## 1 process one label file"
   ],
   "cell_type": "markdown",
   "metadata": {}
  },
  {
   "cell_type": "code",
   "execution_count": 22,
   "metadata": {},
   "outputs": [],
   "source": [
    "file_path = './dyt_51_0429.csv'"
   ]
  },
  {
   "cell_type": "code",
   "execution_count": 23,
   "metadata": {},
   "outputs": [
    {
     "output_type": "stream",
     "name": "stdout",
     "text": [
      "   district  date                raw_video start_time  end_time anomaly\n84  厅中付费区51   429  2021-04-29_22-32-35.mpg   22:43:31  22:43:40    推婴儿车\n85  厅中付费区51   429  2021-04-29_22-32-35.mpg   22:47:20  22:47:23    推婴儿车\n86  厅中付费区51   429  2021-04-29_22-32-35.mpg   22:49:05  22:49:07      跑动\n87  厅中付费区51   429  2021-04-29_22-32-35.mpg   22:49:18  22:49:22      跑动\n88  厅中付费区51   429  2021-04-29_22-32-35.mpg   22:49:31  22:49:33      跑动\n"
     ]
    }
   ],
   "source": [
    "label_df = pd.read_csv(file_path, skipinitialspace=True)\n",
    "# label_df.head(10)\n",
    "print(label_df.tail(5))"
   ]
  },
  {
   "cell_type": "code",
   "execution_count": 24,
   "metadata": {},
   "outputs": [
    {
     "output_type": "stream",
     "name": "stdout",
     "text": [
      "district                      厅中付费区51\ndate                              429\nraw_video     2021-04-29_20-42-26.mpg\nstart_time                   20:46:28\nend_time                     20:47:29\nanomaly                          推婴儿车\nName: 0, dtype: object\n2021-04-29 20:42:26\n"
     ]
    }
   ],
   "source": [
    "i = 0\n",
    "line = label_df.iloc[i]\n",
    "print(line)\n",
    "video_name = line.loc['raw_video']\n",
    "# print(video_name)\n",
    "time_str = video_name.split('.')[0]\n",
    "time = datetime.datetime.strptime(time_str, '%Y-%m-%d_%H-%M-%S')\n",
    "print(time)\n",
    "# video_start_time = "
   ]
  },
  {
   "cell_type": "code",
   "execution_count": 25,
   "metadata": {},
   "outputs": [
    {
     "output_type": "stream",
     "name": "stdout",
     "text": [
      "<class 'datetime.datetime'>\n"
     ]
    },
    {
     "output_type": "execute_result",
     "data": {
      "text/plain": [
       "datetime.datetime(2021, 4, 29, 20, 42, 36)"
      ]
     },
     "metadata": {},
     "execution_count": 25
    }
   ],
   "source": [
    "print(type(time))\n",
    "time + datetime.timedelta(seconds=10)"
   ]
  },
  {
   "cell_type": "code",
   "execution_count": 26,
   "metadata": {},
   "outputs": [
    {
     "output_type": "stream",
     "name": "stdout",
     "text": [
      "24 30\n"
     ]
    }
   ],
   "source": [
    "delta = 10\n",
    "start_time, end_time = datetime.datetime.strptime(line.loc['start_time'], '%H:%M:%S'), datetime.datetime.strptime(line.loc['end_time'], '%H:%M:%S')\n",
    "start_id = (start_time-time).seconds // 10\n",
    "end_id = (end_time-time).seconds // 10\n",
    "print(start_id, end_id)\n",
    "# new_video_name =  f'{time_str}_{(start_time-time).seconds // 10}'\n",
    "# print(new_video_name)"
   ]
  },
  {
   "cell_type": "code",
   "execution_count": 27,
   "metadata": {},
   "outputs": [
    {
     "output_type": "stream",
     "name": "stdout",
     "text": [
      "Empty DataFrame\nColumns: [district, date, new_video, start_frame, end_frame, anomaly]\nIndex: []\n"
     ]
    }
   ],
   "source": [
    "new_label_df = pd.DataFrame(\n",
    "    columns=['district', 'date', 'new_video', 'start_frame', 'end_frame', 'anomaly']\n",
    ")\n",
    "print(new_label_df)"
   ]
  },
  {
   "cell_type": "code",
   "execution_count": 28,
   "metadata": {},
   "outputs": [],
   "source": [
    "\n",
    "for i in range(start_id, end_id+1):\n",
    "    new_video_name = f'{time_str}_{i:0>3d}'\n",
    "    new_label_df.loc[new_label_df.index.size] = [line['district'], line['date'], new_video_name, -1, -1, line['anomaly']]\n"
   ]
  },
  {
   "cell_type": "code",
   "execution_count": 29,
   "metadata": {},
   "outputs": [
    {
     "output_type": "execute_result",
     "data": {
      "text/plain": [
       "  district date                new_video start_frame end_frame anomaly\n",
       "0  厅中付费区51  429  2021-04-29_20-42-26_024          -1        -1    推婴儿车\n",
       "1  厅中付费区51  429  2021-04-29_20-42-26_025          -1        -1    推婴儿车\n",
       "2  厅中付费区51  429  2021-04-29_20-42-26_026          -1        -1    推婴儿车\n",
       "3  厅中付费区51  429  2021-04-29_20-42-26_027          -1        -1    推婴儿车\n",
       "4  厅中付费区51  429  2021-04-29_20-42-26_028          -1        -1    推婴儿车\n",
       "5  厅中付费区51  429  2021-04-29_20-42-26_029          -1        -1    推婴儿车\n",
       "6  厅中付费区51  429  2021-04-29_20-42-26_030          -1        -1    推婴儿车"
      ],
      "text/html": "<div>\n<style scoped>\n    .dataframe tbody tr th:only-of-type {\n        vertical-align: middle;\n    }\n\n    .dataframe tbody tr th {\n        vertical-align: top;\n    }\n\n    .dataframe thead th {\n        text-align: right;\n    }\n</style>\n<table border=\"1\" class=\"dataframe\">\n  <thead>\n    <tr style=\"text-align: right;\">\n      <th></th>\n      <th>district</th>\n      <th>date</th>\n      <th>new_video</th>\n      <th>start_frame</th>\n      <th>end_frame</th>\n      <th>anomaly</th>\n    </tr>\n  </thead>\n  <tbody>\n    <tr>\n      <th>0</th>\n      <td>厅中付费区51</td>\n      <td>429</td>\n      <td>2021-04-29_20-42-26_024</td>\n      <td>-1</td>\n      <td>-1</td>\n      <td>推婴儿车</td>\n    </tr>\n    <tr>\n      <th>1</th>\n      <td>厅中付费区51</td>\n      <td>429</td>\n      <td>2021-04-29_20-42-26_025</td>\n      <td>-1</td>\n      <td>-1</td>\n      <td>推婴儿车</td>\n    </tr>\n    <tr>\n      <th>2</th>\n      <td>厅中付费区51</td>\n      <td>429</td>\n      <td>2021-04-29_20-42-26_026</td>\n      <td>-1</td>\n      <td>-1</td>\n      <td>推婴儿车</td>\n    </tr>\n    <tr>\n      <th>3</th>\n      <td>厅中付费区51</td>\n      <td>429</td>\n      <td>2021-04-29_20-42-26_027</td>\n      <td>-1</td>\n      <td>-1</td>\n      <td>推婴儿车</td>\n    </tr>\n    <tr>\n      <th>4</th>\n      <td>厅中付费区51</td>\n      <td>429</td>\n      <td>2021-04-29_20-42-26_028</td>\n      <td>-1</td>\n      <td>-1</td>\n      <td>推婴儿车</td>\n    </tr>\n    <tr>\n      <th>5</th>\n      <td>厅中付费区51</td>\n      <td>429</td>\n      <td>2021-04-29_20-42-26_029</td>\n      <td>-1</td>\n      <td>-1</td>\n      <td>推婴儿车</td>\n    </tr>\n    <tr>\n      <th>6</th>\n      <td>厅中付费区51</td>\n      <td>429</td>\n      <td>2021-04-29_20-42-26_030</td>\n      <td>-1</td>\n      <td>-1</td>\n      <td>推婴儿车</td>\n    </tr>\n  </tbody>\n</table>\n</div>"
     },
     "metadata": {},
     "execution_count": 29
    }
   ],
   "source": [
    "new_label_df"
   ]
  },
  {
   "source": [
    "## 2 process all!"
   ],
   "cell_type": "markdown",
   "metadata": {}
  },
  {
   "cell_type": "code",
   "execution_count": 30,
   "metadata": {},
   "outputs": [],
   "source": [
    "def process_one(new_df, line, delta=10):\n",
    "    # line = new_df.iloc[line_idx]\n",
    "    # print(line)\n",
    "    video_name = line.loc['raw_video']\n",
    "    # print(video_name)\n",
    "    time_str = video_name.split('.')[0]\n",
    "    time = datetime.datetime.strptime(time_str, '%Y-%m-%d_%H-%M-%S')\n",
    "    start_time, end_time = datetime.datetime.strptime(line.loc['start_time'], '%H:%M:%S'), datetime.datetime.strptime(line.loc['end_time'], '%H:%M:%S')\n",
    "    start_id = (start_time-time).seconds // delta\n",
    "    end_id = (end_time-time).seconds // delta\n",
    "\n",
    "    for i in range(start_id, end_id+1):\n",
    "        new_video_name = f'{time_str}_{i:0>3d}'\n",
    "        new_df.loc[new_df.index.size] = [line['district'], line['date'], new_video_name, -1, -1, line['anomaly']]"
   ]
  },
  {
   "cell_type": "code",
   "execution_count": 31,
   "metadata": {
    "tags": []
   },
   "outputs": [],
   "source": [
    "new_df = pd.DataFrame(\n",
    "    columns=['district', 'date', 'new_video', 'start_frame', 'end_frame', 'anomaly']\n",
    ")\n",
    "for line_idx, line in label_df.iterrows():\n",
    "    # print(line_idx)\n",
    "    # print(line)\n",
    "    process_one(new_df, line)"
   ]
  },
  {
   "cell_type": "code",
   "execution_count": 32,
   "metadata": {},
   "outputs": [
    {
     "output_type": "stream",
     "name": "stdout",
     "text": [
      "    district date                new_video start_frame end_frame anomaly\n0    厅中付费区51  429  2021-04-29_20-42-26_024          -1        -1    推婴儿车\n1    厅中付费区51  429  2021-04-29_20-42-26_025          -1        -1    推婴儿车\n2    厅中付费区51  429  2021-04-29_20-42-26_026          -1        -1    推婴儿车\n3    厅中付费区51  429  2021-04-29_20-42-26_027          -1        -1    推婴儿车\n4    厅中付费区51  429  2021-04-29_20-42-26_028          -1        -1    推婴儿车\n..       ...  ...                      ...         ...       ...     ...\n233  厅中付费区51  429  2021-04-29_22-32-35_066          -1        -1    推婴儿车\n234  厅中付费区51  429  2021-04-29_22-32-35_088          -1        -1    推婴儿车\n235  厅中付费区51  429  2021-04-29_22-32-35_099          -1        -1      跑动\n236  厅中付费区51  429  2021-04-29_22-32-35_100          -1        -1      跑动\n237  厅中付费区51  429  2021-04-29_22-32-35_101          -1        -1      跑动\n\n[238 rows x 6 columns]\n"
     ]
    }
   ],
   "source": [
    "print(new_df)"
   ]
  },
  {
   "cell_type": "code",
   "execution_count": 33,
   "metadata": {},
   "outputs": [],
   "source": [
    "new_df.to_csv('label2.csv')"
   ]
  },
  {
   "cell_type": "code",
   "execution_count": 34,
   "metadata": {},
   "outputs": [
    {
     "output_type": "execute_result",
     "data": {
      "text/plain": [
       "    district date                new_video start_frame end_frame anomaly\n",
       "228  厅中付费区51  429  2021-04-29_22-32-35_064          -1        -1    推婴儿车\n",
       "229  厅中付费区51  429  2021-04-29_22-32-35_065          -1        -1    推婴儿车\n",
       "230  厅中付费区51  429  2021-04-29_22-32-35_061          -1        -1      跑动\n",
       "231  厅中付费区51  429  2021-04-29_22-32-35_062          -1        -1      跑动\n",
       "232  厅中付费区51  429  2021-04-29_22-32-35_065          -1        -1    推婴儿车\n",
       "233  厅中付费区51  429  2021-04-29_22-32-35_066          -1        -1    推婴儿车\n",
       "234  厅中付费区51  429  2021-04-29_22-32-35_088          -1        -1    推婴儿车\n",
       "235  厅中付费区51  429  2021-04-29_22-32-35_099          -1        -1      跑动\n",
       "236  厅中付费区51  429  2021-04-29_22-32-35_100          -1        -1      跑动\n",
       "237  厅中付费区51  429  2021-04-29_22-32-35_101          -1        -1      跑动"
      ],
      "text/html": "<div>\n<style scoped>\n    .dataframe tbody tr th:only-of-type {\n        vertical-align: middle;\n    }\n\n    .dataframe tbody tr th {\n        vertical-align: top;\n    }\n\n    .dataframe thead th {\n        text-align: right;\n    }\n</style>\n<table border=\"1\" class=\"dataframe\">\n  <thead>\n    <tr style=\"text-align: right;\">\n      <th></th>\n      <th>district</th>\n      <th>date</th>\n      <th>new_video</th>\n      <th>start_frame</th>\n      <th>end_frame</th>\n      <th>anomaly</th>\n    </tr>\n  </thead>\n  <tbody>\n    <tr>\n      <th>228</th>\n      <td>厅中付费区51</td>\n      <td>429</td>\n      <td>2021-04-29_22-32-35_064</td>\n      <td>-1</td>\n      <td>-1</td>\n      <td>推婴儿车</td>\n    </tr>\n    <tr>\n      <th>229</th>\n      <td>厅中付费区51</td>\n      <td>429</td>\n      <td>2021-04-29_22-32-35_065</td>\n      <td>-1</td>\n      <td>-1</td>\n      <td>推婴儿车</td>\n    </tr>\n    <tr>\n      <th>230</th>\n      <td>厅中付费区51</td>\n      <td>429</td>\n      <td>2021-04-29_22-32-35_061</td>\n      <td>-1</td>\n      <td>-1</td>\n      <td>跑动</td>\n    </tr>\n    <tr>\n      <th>231</th>\n      <td>厅中付费区51</td>\n      <td>429</td>\n      <td>2021-04-29_22-32-35_062</td>\n      <td>-1</td>\n      <td>-1</td>\n      <td>跑动</td>\n    </tr>\n    <tr>\n      <th>232</th>\n      <td>厅中付费区51</td>\n      <td>429</td>\n      <td>2021-04-29_22-32-35_065</td>\n      <td>-1</td>\n      <td>-1</td>\n      <td>推婴儿车</td>\n    </tr>\n    <tr>\n      <th>233</th>\n      <td>厅中付费区51</td>\n      <td>429</td>\n      <td>2021-04-29_22-32-35_066</td>\n      <td>-1</td>\n      <td>-1</td>\n      <td>推婴儿车</td>\n    </tr>\n    <tr>\n      <th>234</th>\n      <td>厅中付费区51</td>\n      <td>429</td>\n      <td>2021-04-29_22-32-35_088</td>\n      <td>-1</td>\n      <td>-1</td>\n      <td>推婴儿车</td>\n    </tr>\n    <tr>\n      <th>235</th>\n      <td>厅中付费区51</td>\n      <td>429</td>\n      <td>2021-04-29_22-32-35_099</td>\n      <td>-1</td>\n      <td>-1</td>\n      <td>跑动</td>\n    </tr>\n    <tr>\n      <th>236</th>\n      <td>厅中付费区51</td>\n      <td>429</td>\n      <td>2021-04-29_22-32-35_100</td>\n      <td>-1</td>\n      <td>-1</td>\n      <td>跑动</td>\n    </tr>\n    <tr>\n      <th>237</th>\n      <td>厅中付费区51</td>\n      <td>429</td>\n      <td>2021-04-29_22-32-35_101</td>\n      <td>-1</td>\n      <td>-1</td>\n      <td>跑动</td>\n    </tr>\n  </tbody>\n</table>\n</div>"
     },
     "metadata": {},
     "execution_count": 34
    }
   ],
   "source": [
    "new_df.tail(10)"
   ]
  },
  {
   "source": [
    "## 3 Load processed label_file, and split train and test videos"
   ],
   "cell_type": "markdown",
   "metadata": {}
  },
  {
   "cell_type": "code",
   "execution_count": 35,
   "metadata": {},
   "outputs": [],
   "source": [
    "import pandas as pd\n",
    "import glob\n",
    "from pathlib import Path\n",
    "\n",
    "label_file_path = Path('label2.csv')\n",
    "frames_root = Path('/home/yuanyu/projects/data/DaYanTa_2/8_C51/frames')\n"
   ]
  },
  {
   "cell_type": "code",
   "execution_count": 36,
   "metadata": {},
   "outputs": [],
   "source": [
    "label_df = pd.read_csv(label_file_path, index_col=0)"
   ]
  },
  {
   "cell_type": "code",
   "execution_count": 37,
   "metadata": {},
   "outputs": [
    {
     "output_type": "execute_result",
     "data": {
      "text/plain": [
       "  district  date                new_video  start_frame  end_frame anomaly\n",
       "0  厅中付费区51   429  2021-04-29_20-42-26_024           -1         -1    推婴儿车\n",
       "1  厅中付费区51   429  2021-04-29_20-42-26_025           -1         -1    推婴儿车\n",
       "2  厅中付费区51   429  2021-04-29_20-42-26_026           -1         -1    推婴儿车\n",
       "3  厅中付费区51   429  2021-04-29_20-42-26_027           -1         -1    推婴儿车\n",
       "4  厅中付费区51   429  2021-04-29_20-42-26_028           -1         -1    推婴儿车\n",
       "5  厅中付费区51   429  2021-04-29_20-42-26_029           -1         -1    推婴儿车\n",
       "6  厅中付费区51   429  2021-04-29_20-42-26_030           -1         -1    推婴儿车\n",
       "7  厅中付费区51   429  2021-04-29_20-42-26_034           -1         -1    推婴儿车\n",
       "8  厅中付费区51   429  2021-04-29_20-42-26_035           -1         -1    推婴儿车\n",
       "9  厅中付费区51   429  2021-04-29_20-42-26_036           -1         -1    推婴儿车"
      ],
      "text/html": "<div>\n<style scoped>\n    .dataframe tbody tr th:only-of-type {\n        vertical-align: middle;\n    }\n\n    .dataframe tbody tr th {\n        vertical-align: top;\n    }\n\n    .dataframe thead th {\n        text-align: right;\n    }\n</style>\n<table border=\"1\" class=\"dataframe\">\n  <thead>\n    <tr style=\"text-align: right;\">\n      <th></th>\n      <th>district</th>\n      <th>date</th>\n      <th>new_video</th>\n      <th>start_frame</th>\n      <th>end_frame</th>\n      <th>anomaly</th>\n    </tr>\n  </thead>\n  <tbody>\n    <tr>\n      <th>0</th>\n      <td>厅中付费区51</td>\n      <td>429</td>\n      <td>2021-04-29_20-42-26_024</td>\n      <td>-1</td>\n      <td>-1</td>\n      <td>推婴儿车</td>\n    </tr>\n    <tr>\n      <th>1</th>\n      <td>厅中付费区51</td>\n      <td>429</td>\n      <td>2021-04-29_20-42-26_025</td>\n      <td>-1</td>\n      <td>-1</td>\n      <td>推婴儿车</td>\n    </tr>\n    <tr>\n      <th>2</th>\n      <td>厅中付费区51</td>\n      <td>429</td>\n      <td>2021-04-29_20-42-26_026</td>\n      <td>-1</td>\n      <td>-1</td>\n      <td>推婴儿车</td>\n    </tr>\n    <tr>\n      <th>3</th>\n      <td>厅中付费区51</td>\n      <td>429</td>\n      <td>2021-04-29_20-42-26_027</td>\n      <td>-1</td>\n      <td>-1</td>\n      <td>推婴儿车</td>\n    </tr>\n    <tr>\n      <th>4</th>\n      <td>厅中付费区51</td>\n      <td>429</td>\n      <td>2021-04-29_20-42-26_028</td>\n      <td>-1</td>\n      <td>-1</td>\n      <td>推婴儿车</td>\n    </tr>\n    <tr>\n      <th>5</th>\n      <td>厅中付费区51</td>\n      <td>429</td>\n      <td>2021-04-29_20-42-26_029</td>\n      <td>-1</td>\n      <td>-1</td>\n      <td>推婴儿车</td>\n    </tr>\n    <tr>\n      <th>6</th>\n      <td>厅中付费区51</td>\n      <td>429</td>\n      <td>2021-04-29_20-42-26_030</td>\n      <td>-1</td>\n      <td>-1</td>\n      <td>推婴儿车</td>\n    </tr>\n    <tr>\n      <th>7</th>\n      <td>厅中付费区51</td>\n      <td>429</td>\n      <td>2021-04-29_20-42-26_034</td>\n      <td>-1</td>\n      <td>-1</td>\n      <td>推婴儿车</td>\n    </tr>\n    <tr>\n      <th>8</th>\n      <td>厅中付费区51</td>\n      <td>429</td>\n      <td>2021-04-29_20-42-26_035</td>\n      <td>-1</td>\n      <td>-1</td>\n      <td>推婴儿车</td>\n    </tr>\n    <tr>\n      <th>9</th>\n      <td>厅中付费区51</td>\n      <td>429</td>\n      <td>2021-04-29_20-42-26_036</td>\n      <td>-1</td>\n      <td>-1</td>\n      <td>推婴儿车</td>\n    </tr>\n  </tbody>\n</table>\n</div>"
     },
     "metadata": {},
     "execution_count": 37
    }
   ],
   "source": [
    "label_df.head(10)"
   ]
  },
  {
   "cell_type": "code",
   "execution_count": 38,
   "metadata": {
    "tags": [
     "outputPrepend"
    ]
   },
   "outputs": [
    {
     "output_type": "stream",
     "name": "stdout",
     "text": [
      "ts/data/DaYanTa_2/8_C51/frames/2021-04-29_21-00-49_038', '/home/yuanyu/projects/data/DaYanTa_2/8_C51/frames/2021-04-29_21-37-28_050', '/home/yuanyu/projects/data/DaYanTa_2/8_C51/frames/2021-04-29_21-00-49_011', '/home/yuanyu/projects/data/DaYanTa_2/8_C51/frames/2021-04-29_21-37-28_052', '/home/yuanyu/projects/data/DaYanTa_2/8_C51/frames/2021-04-29_21-37-28_053', '/home/yuanyu/projects/data/DaYanTa_2/8_C51/frames/2021-04-29_21-00-49_036', '/home/yuanyu/projects/data/DaYanTa_2/8_C51/frames/2021-04-29_21-37-28_054', '/home/yuanyu/projects/data/DaYanTa_2/8_C51/frames/2021-04-29_21-19-12_101', '/home/yuanyu/projects/data/DaYanTa_2/8_C51/frames/2021-04-29_21-37-28_057', '/home/yuanyu/projects/data/DaYanTa_2/8_C51/frames/2021-04-29_21-37-28_055', '/home/yuanyu/projects/data/DaYanTa_2/8_C51/frames/2021-04-29_21-37-28_101', '/home/yuanyu/projects/data/DaYanTa_2/8_C51/frames/2021-04-29_21-37-28_059', '/home/yuanyu/projects/data/DaYanTa_2/8_C51/frames/2021-04-29_21-37-28_058', '/home/yuanyu/projects/data/DaYanTa_2/8_C51/frames/2021-04-29_21-19-12_051', '/home/yuanyu/projects/data/DaYanTa_2/8_C51/frames/2021-04-29_21-00-49_010', '/home/yuanyu/projects/data/DaYanTa_2/8_C51/frames/2021-04-29_21-19-12_053', '/home/yuanyu/projects/data/DaYanTa_2/8_C51/frames/2021-04-29_21-19-12_054', '/home/yuanyu/projects/data/DaYanTa_2/8_C51/frames/2021-04-29_21-00-49_104', '/home/yuanyu/projects/data/DaYanTa_2/8_C51/frames/2021-04-29_21-19-12_056', '/home/yuanyu/projects/data/DaYanTa_2/8_C51/frames/2021-04-29_21-00-49_028', '/home/yuanyu/projects/data/DaYanTa_2/8_C51/frames/2021-04-29_21-19-12_057', '/home/yuanyu/projects/data/DaYanTa_2/8_C51/frames/2021-04-29_21-19-12_039', '/home/yuanyu/projects/data/DaYanTa_2/8_C51/frames/2021-04-29_21-00-49_040', '/home/yuanyu/projects/data/DaYanTa_2/8_C51/frames/2021-04-29_21-00-49_041', '/home/yuanyu/projects/data/DaYanTa_2/8_C51/frames/2021-04-29_21-55-51_052', '/home/yuanyu/projects/data/DaYanTa_2/8_C51/frames/2021-04-29_21-55-51_053', '/home/yuanyu/projects/data/DaYanTa_2/8_C51/frames/2021-04-29_21-55-51_054', '/home/yuanyu/projects/data/DaYanTa_2/8_C51/frames/2021-04-29_21-55-51_055', '/home/yuanyu/projects/data/DaYanTa_2/8_C51/frames/2021-04-29_21-55-51_050', '/home/yuanyu/projects/data/DaYanTa_2/8_C51/frames/2021-04-29_21-00-49_047', '/home/yuanyu/projects/data/DaYanTa_2/8_C51/frames/2021-04-29_21-55-51_058', '/home/yuanyu/projects/data/DaYanTa_2/8_C51/frames/2021-04-29_21-00-49_046', '/home/yuanyu/projects/data/DaYanTa_2/8_C51/frames/2021-04-29_21-00-49_044', '/home/yuanyu/projects/data/DaYanTa_2/8_C51/frames/2021-04-29_21-00-49_045', '/home/yuanyu/projects/data/DaYanTa_2/8_C51/frames/2021-04-29_21-37-28_060', '/home/yuanyu/projects/data/DaYanTa_2/8_C51/frames/2021-04-29_21-19-12_058', '/home/yuanyu/projects/data/DaYanTa_2/8_C51/frames/2021-04-29_21-19-12_059', '/home/yuanyu/projects/data/DaYanTa_2/8_C51/frames/2021-04-29_21-19-12_024', '/home/yuanyu/projects/data/DaYanTa_2/8_C51/frames/2021-04-29_21-37-28_064', '/home/yuanyu/projects/data/DaYanTa_2/8_C51/frames/2021-04-29_21-37-28_065', '/home/yuanyu/projects/data/DaYanTa_2/8_C51/frames/2021-04-29_21-37-28_066', '/home/yuanyu/projects/data/DaYanTa_2/8_C51/frames/2021-04-29_21-00-49_049', '/home/yuanyu/projects/data/DaYanTa_2/8_C51/frames/2021-04-29_21-37-28_068', '/home/yuanyu/projects/data/DaYanTa_2/8_C51/frames/2021-04-29_21-37-28_069', '/home/yuanyu/projects/data/DaYanTa_2/8_C51/frames/2021-04-29_21-00-49_001', '/home/yuanyu/projects/data/DaYanTa_2/8_C51/frames/2021-04-29_21-00-49_042', '/home/yuanyu/projects/data/DaYanTa_2/8_C51/frames/2021-04-29_21-19-12_061', '/home/yuanyu/projects/data/DaYanTa_2/8_C51/frames/2021-04-29_21-19-12_042', '/home/yuanyu/projects/data/DaYanTa_2/8_C51/frames/2021-04-29_21-19-12_063', '/home/yuanyu/projects/data/DaYanTa_2/8_C51/frames/2021-04-29_21-19-12_064', '/home/yuanyu/projects/data/DaYanTa_2/8_C51/frames/2021-04-29_21-19-12_065', '/home/yuanyu/projects/data/DaYanTa_2/8_C51/frames/2021-04-29_21-19-12_066', '/home/yuanyu/projects/data/DaYanTa_2/8_C51/frames/2021-04-29_21-00-49_009', '/home/yuanyu/projects/data/DaYanTa_2/8_C51/frames/2021-04-29_21-00-49_043', '/home/yuanyu/projects/data/DaYanTa_2/8_C51/frames/2021-04-29_21-19-12_069', '/home/yuanyu/projects/data/DaYanTa_2/8_C51/frames/2021-04-29_21-00-49_050', '/home/yuanyu/projects/data/DaYanTa_2/8_C51/frames/2021-04-29_21-55-51_061', '/home/yuanyu/projects/data/DaYanTa_2/8_C51/frames/2021-04-29_21-00-49_051', '/home/yuanyu/projects/data/DaYanTa_2/8_C51/frames/2021-04-29_21-00-49_053', '/home/yuanyu/projects/data/DaYanTa_2/8_C51/frames/2021-04-29_21-00-49_054', '/home/yuanyu/projects/data/DaYanTa_2/8_C51/frames/2021-04-29_21-00-49_055', '/home/yuanyu/projects/data/DaYanTa_2/8_C51/frames/2021-04-29_21-55-51_066', '/home/yuanyu/projects/data/DaYanTa_2/8_C51/frames/2021-04-29_21-00-49_056', '/home/yuanyu/projects/data/DaYanTa_2/8_C51/frames/2021-04-29_21-00-49_057', '/home/yuanyu/projects/data/DaYanTa_2/8_C51/frames/2021-04-29_21-55-51_069', '/home/yuanyu/projects/data/DaYanTa_2/8_C51/frames/2021-04-29_21-00-49_059', '/home/yuanyu/projects/data/DaYanTa_2/8_C51/frames/2021-04-29_21-55-51_068', '/home/yuanyu/projects/data/DaYanTa_2/8_C51/frames/2021-04-29_21-55-51_106', '/home/yuanyu/projects/data/DaYanTa_2/8_C51/frames/2021-04-29_21-37-28_071', '/home/yuanyu/projects/data/DaYanTa_2/8_C51/frames/2021-04-29_21-37-28_072', '/home/yuanyu/projects/data/DaYanTa_2/8_C51/frames/2021-04-29_21-37-28_073', '/home/yuanyu/projects/data/DaYanTa_2/8_C51/frames/2021-04-29_21-37-28_074', '/home/yuanyu/projects/data/DaYanTa_2/8_C51/frames/2021-04-29_21-37-28_075', '/home/yuanyu/projects/data/DaYanTa_2/8_C51/frames/2021-04-29_21-55-51_063', '/home/yuanyu/projects/data/DaYanTa_2/8_C51/frames/2021-04-29_21-37-28_077', '/home/yuanyu/projects/data/DaYanTa_2/8_C51/frames/2021-04-29_21-55-51_065', '/home/yuanyu/projects/data/DaYanTa_2/8_C51/frames/2021-04-29_21-37-28_079', '/home/yuanyu/projects/data/DaYanTa_2/8_C51/frames/2021-04-29_21-37-28_044', '/home/yuanyu/projects/data/DaYanTa_2/8_C51/frames/2021-04-29_21-19-12_070', '/home/yuanyu/projects/data/DaYanTa_2/8_C51/frames/2021-04-29_21-19-12_071', '/home/yuanyu/projects/data/DaYanTa_2/8_C51/frames/2021-04-29_21-19-12_072', '/home/yuanyu/projects/data/DaYanTa_2/8_C51/frames/2021-04-29_21-19-12_060', '/home/yuanyu/projects/data/DaYanTa_2/8_C51/frames/2021-04-29_21-19-12_074', '/home/yuanyu/projects/data/DaYanTa_2/8_C51/frames/2021-04-29_21-37-28_108', '/home/yuanyu/projects/data/DaYanTa_2/8_C51/frames/2021-04-29_21-19-12_075', '/home/yuanyu/projects/data/DaYanTa_2/8_C51/frames/2021-04-29_21-55-51_107', '/home/yuanyu/projects/data/DaYanTa_2/8_C51/frames/2021-04-29_21-19-12_078', '/home/yuanyu/projects/data/DaYanTa_2/8_C51/frames/2021-04-29_21-19-12_079', '/home/yuanyu/projects/data/DaYanTa_2/8_C51/frames/2021-04-29_21-00-49_060', '/home/yuanyu/projects/data/DaYanTa_2/8_C51/frames/2021-04-29_21-00-49_061', '/home/yuanyu/projects/data/DaYanTa_2/8_C51/frames/2021-04-29_21-00-49_062', '/home/yuanyu/projects/data/DaYanTa_2/8_C51/frames/2021-04-29_21-55-51_073', '/home/yuanyu/projects/data/DaYanTa_2/8_C51/frames/2021-04-29_21-55-51_074', '/home/yuanyu/projects/data/DaYanTa_2/8_C51/frames/2021-04-29_21-55-51_072', '/home/yuanyu/projects/data/DaYanTa_2/8_C51/frames/2021-04-29_21-00-49_066', '/home/yuanyu/projects/data/DaYanTa_2/8_C51/frames/2021-04-29_21-55-51_077', '/home/yuanyu/projects/data/DaYanTa_2/8_C51/frames/2021-04-29_21-00-49_065', '/home/yuanyu/projects/data/DaYanTa_2/8_C51/frames/2021-04-29_21-00-49_069', '/home/yuanyu/projects/data/DaYanTa_2/8_C51/frames/2021-04-29_21-55-51_079', '/home/yuanyu/projects/data/DaYanTa_2/8_C51/frames/2021-04-29_21-00-49_068', '/home/yuanyu/projects/data/DaYanTa_2/8_C51/frames/2021-04-29_21-37-28_080', '/home/yuanyu/projects/data/DaYanTa_2/8_C51/frames/2021-04-29_21-37-28_081', '/home/yuanyu/projects/data/DaYanTa_2/8_C51/frames/2021-04-29_21-00-49_064', '/home/yuanyu/projects/data/DaYanTa_2/8_C51/frames/2021-04-29_21-55-51_075', '/home/yuanyu/projects/data/DaYanTa_2/8_C51/frames/2021-04-29_21-37-28_084', '/home/yuanyu/projects/data/DaYanTa_2/8_C51/frames/2021-04-29_21-37-28_085', '/home/yuanyu/projects/data/DaYanTa_2/8_C51/frames/2021-04-29_21-37-28_086', '/home/yuanyu/projects/data/DaYanTa_2/8_C51/frames/2021-04-29_21-37-28_087', '/home/yuanyu/projects/data/DaYanTa_2/8_C51/frames/2021-04-29_21-37-28_088', '/home/yuanyu/projects/data/DaYanTa_2/8_C51/frames/2021-04-29_21-37-28_089', '/home/yuanyu/projects/data/DaYanTa_2/8_C51/frames/2021-04-29_21-55-51_071', '/home/yuanyu/projects/data/DaYanTa_2/8_C51/frames/2021-04-29_21-00-49_110', '/home/yuanyu/projects/data/DaYanTa_2/8_C51/frames/2021-04-29_21-19-12_081', '/home/yuanyu/projects/data/DaYanTa_2/8_C51/frames/2021-04-29_21-19-12_082', '/home/yuanyu/projects/data/DaYanTa_2/8_C51/frames/2021-04-29_21-19-12_083', '/home/yuanyu/projects/data/DaYanTa_2/8_C51/frames/2021-04-29_21-55-51_076', '/home/yuanyu/projects/data/DaYanTa_2/8_C51/frames/2021-04-29_21-19-12_085', '/home/yuanyu/projects/data/DaYanTa_2/8_C51/frames/2021-04-29_21-37-28_103', '/home/yuanyu/projects/data/DaYanTa_2/8_C51/frames/2021-04-29_21-19-12_087', '/home/yuanyu/projects/data/DaYanTa_2/8_C51/frames/2021-04-29_21-19-12_088', '/home/yuanyu/projects/data/DaYanTa_2/8_C51/frames/2021-04-29_21-19-12_089', '/home/yuanyu/projects/data/DaYanTa_2/8_C51/frames/2021-04-29_21-00-49_070', '/home/yuanyu/projects/data/DaYanTa_2/8_C51/frames/2021-04-29_21-00-49_071', '/home/yuanyu/projects/data/DaYanTa_2/8_C51/frames/2021-04-29_21-00-49_072', '/home/yuanyu/projects/data/DaYanTa_2/8_C51/frames/2021-04-29_21-00-49_073', '/home/yuanyu/projects/data/DaYanTa_2/8_C51/frames/2021-04-29_21-00-49_074', '/home/yuanyu/projects/data/DaYanTa_2/8_C51/frames/2021-04-29_21-55-51_084', '/home/yuanyu/projects/data/DaYanTa_2/8_C51/frames/2021-04-29_21-00-49_076', '/home/yuanyu/projects/data/DaYanTa_2/8_C51/frames/2021-04-29_21-00-49_077', '/home/yuanyu/projects/data/DaYanTa_2/8_C51/frames/2021-04-29_21-00-49_078', '/home/yuanyu/projects/data/DaYanTa_2/8_C51/frames/2021-04-29_21-55-51_089', '/home/yuanyu/projects/data/DaYanTa_2/8_C51/frames/2021-04-29_21-55-51_087', '/home/yuanyu/projects/data/DaYanTa_2/8_C51/frames/2021-04-29_21-55-51_081', '/home/yuanyu/projects/data/DaYanTa_2/8_C51/frames/2021-04-29_21-37-28_090', '/home/yuanyu/projects/data/DaYanTa_2/8_C51/frames/2021-04-29_21-19-12_052', '/home/yuanyu/projects/data/DaYanTa_2/8_C51/frames/2021-04-29_21-37-28_092', '/home/yuanyu/projects/data/DaYanTa_2/8_C51/frames/2021-04-29_21-37-28_093', '/home/yuanyu/projects/data/DaYanTa_2/8_C51/frames/2021-04-29_21-37-28_094', '/home/yuanyu/projects/data/DaYanTa_2/8_C51/frames/2021-04-29_21-37-28_095', '/home/yuanyu/projects/data/DaYanTa_2/8_C51/frames/2021-04-29_21-55-51_088', '/home/yuanyu/projects/data/DaYanTa_2/8_C51/frames/2021-04-29_21-37-28_097', '/home/yuanyu/projects/data/DaYanTa_2/8_C51/frames/2021-04-29_21-37-28_098', '/home/yuanyu/projects/data/DaYanTa_2/8_C51/frames/2021-04-29_21-37-28_099', '/home/yuanyu/projects/data/DaYanTa_2/8_C51/frames/2021-04-29_21-19-12_084', '/home/yuanyu/projects/data/DaYanTa_2/8_C51/frames/2021-04-29_21-19-12_090', '/home/yuanyu/projects/data/DaYanTa_2/8_C51/frames/2021-04-29_21-37-28_096', '/home/yuanyu/projects/data/DaYanTa_2/8_C51/frames/2021-04-29_21-00-49_063', '/home/yuanyu/projects/data/DaYanTa_2/8_C51/frames/2021-04-29_21-19-12_093', '/home/yuanyu/projects/data/DaYanTa_2/8_C51/frames/2021-04-29_21-55-51_086', '/home/yuanyu/projects/data/DaYanTa_2/8_C51/frames/2021-04-29_21-19-12_095', '/home/yuanyu/projects/data/DaYanTa_2/8_C51/frames/2021-04-29_21-19-12_096', '/home/yuanyu/projects/data/DaYanTa_2/8_C51/frames/2021-04-29_21-00-49_079', '/home/yuanyu/projects/data/DaYanTa_2/8_C51/frames/2021-04-29_21-19-12_098', '/home/yuanyu/projects/data/DaYanTa_2/8_C51/frames/2021-04-29_21-19-12_099', '/home/yuanyu/projects/data/DaYanTa_2/8_C51/frames/2021-04-29_21-00-49_080', '/home/yuanyu/projects/data/DaYanTa_2/8_C51/frames/2021-04-29_21-55-51_091', '/home/yuanyu/projects/data/DaYanTa_2/8_C51/frames/2021-04-29_21-55-51_092', '/home/yuanyu/projects/data/DaYanTa_2/8_C51/frames/2021-04-29_21-55-51_093', '/home/yuanyu/projects/data/DaYanTa_2/8_C51/frames/2021-04-29_21-37-28_083', '/home/yuanyu/projects/data/DaYanTa_2/8_C51/frames/2021-04-29_21-55-51_095', '/home/yuanyu/projects/data/DaYanTa_2/8_C51/frames/2021-04-29_21-00-49_085', '/home/yuanyu/projects/data/DaYanTa_2/8_C51/frames/2021-04-29_21-55-51_097', '/home/yuanyu/projects/data/DaYanTa_2/8_C51/frames/2021-04-29_21-55-51_085', '/home/yuanyu/projects/data/DaYanTa_2/8_C51/frames/2021-04-29_21-55-51_099', '/home/yuanyu/projects/data/DaYanTa_2/8_C51/frames/2021-04-29_21-55-51_090', '/home/yuanyu/projects/data/DaYanTa_2/8_C51/frames/2021-04-29_21-19-12_050', '/home/yuanyu/projects/data/DaYanTa_2/8_C51/frames/2021-04-29_21-55-51_096', '/home/yuanyu/projects/data/DaYanTa_2/8_C51/frames/2021-04-29_21-19-12_062', '/home/yuanyu/projects/data/DaYanTa_2/8_C51/frames/2021-04-29_21-37-28_110', '/home/yuanyu/projects/data/DaYanTa_2/8_C51/frames/2021-04-29_21-00-49_003', '/home/yuanyu/projects/data/DaYanTa_2/8_C51/frames/2021-04-29_21-37-28_091', '/home/yuanyu/projects/data/DaYanTa_2/8_C51/frames/2021-04-29_21-00-49_025', '/home/yuanyu/projects/data/DaYanTa_2/8_C51/frames/2021-04-29_21-19-12_068', '/home/yuanyu/projects/data/DaYanTa_2/8_C51/frames/2021-04-29_21-00-49_008', '/home/yuanyu/projects/data/DaYanTa_2/8_C51/frames/2021-04-29_21-19-12_107', '/home/yuanyu/projects/data/DaYanTa_2/8_C51/frames/2021-04-29_21-55-51_080', '/home/yuanyu/projects/data/DaYanTa_2/8_C51/frames/2021-04-29_21-00-49_082', '/home/yuanyu/projects/data/DaYanTa_2/8_C51/frames/2021-04-29_21-37-28_076', '/home/yuanyu/projects/data/DaYanTa_2/8_C51/frames/2021-04-29_21-55-51_070', '/home/yuanyu/projects/data/DaYanTa_2/8_C51/frames/2021-04-29_21-00-49_031', '/home/yuanyu/projects/data/DaYanTa_2/8_C51/frames/2021-04-29_21-55-51_042', '/home/yuanyu/projects/data/DaYanTa_2/8_C51/frames/2021-04-29_21-55-51_057', '/home/yuanyu/projects/data/DaYanTa_2/8_C51/frames/2021-04-29_21-37-28_045', '/home/yuanyu/projects/data/DaYanTa_2/8_C51/frames/2021-04-29_21-55-51_028', '/home/yuanyu/projects/data/DaYanTa_2/8_C51/frames/2021-04-29_21-55-51_029', '/home/yuanyu/projects/data/DaYanTa_2/8_C51/frames/2021-04-29_21-19-12_073', '/home/yuanyu/projects/data/DaYanTa_2/8_C51/frames/2021-04-29_21-00-49_090', '/home/yuanyu/projects/data/DaYanTa_2/8_C51/frames/2021-04-29_21-00-49_091', '/home/yuanyu/projects/data/DaYanTa_2/8_C51/frames/2021-04-29_21-00-49_092', '/home/yuanyu/projects/data/DaYanTa_2/8_C51/frames/2021-04-29_21-00-49_093', '/home/yuanyu/projects/data/DaYanTa_2/8_C51/frames/2021-04-29_21-00-49_094', '/home/yuanyu/projects/data/DaYanTa_2/8_C51/frames/2021-04-29_21-00-49_095', '/home/yuanyu/projects/data/DaYanTa_2/8_C51/frames/2021-04-29_21-19-12_094', '/home/yuanyu/projects/data/DaYanTa_2/8_C51/frames/2021-04-29_21-00-49_096', '/home/yuanyu/projects/data/DaYanTa_2/8_C51/frames/2021-04-29_21-00-49_098', '/home/yuanyu/projects/data/DaYanTa_2/8_C51/frames/2021-04-29_21-00-49_099', '/home/yuanyu/projects/data/DaYanTa_2/8_C51/frames/2021-04-29_21-00-49_097', '/home/yuanyu/projects/data/DaYanTa_2/8_C51/frames/2021-04-29_21-00-49_088', '/home/yuanyu/projects/data/DaYanTa_2/8_C51/frames/2021-04-29_21-55-51_040', '/home/yuanyu/projects/data/DaYanTa_2/8_C51/frames/2021-04-29_21-00-49_081', '/home/yuanyu/projects/data/DaYanTa_2/8_C51/frames/2021-04-29_21-55-51_022', '/home/yuanyu/projects/data/DaYanTa_2/8_C51/frames/2021-04-29_21-55-51_083', '/home/yuanyu/projects/data/DaYanTa_2/8_C51/frames/2021-04-29_21-37-28_021', '/home/yuanyu/projects/data/DaYanTa_2/8_C51/frames/2021-04-29_21-19-12_076', '/home/yuanyu/projects/data/DaYanTa_2/8_C51/frames/2021-04-29_21-55-51_046', '/home/yuanyu/projects/data/DaYanTa_2/8_C51/frames/2021-04-29_21-19-12_037', '/home/yuanyu/projects/data/DaYanTa_2/8_C51/frames/2021-04-29_21-37-28_025', '/home/yuanyu/projects/data/DaYanTa_2/8_C51/frames/2021-04-29_21-00-49_089', '/home/yuanyu/projects/data/DaYanTa_2/8_C51/frames/2021-04-29_21-55-51_030', '/home/yuanyu/projects/data/DaYanTa_2/8_C51/frames/2021-04-29_21-55-51_031', '/home/yuanyu/projects/data/DaYanTa_2/8_C51/frames/2021-04-29_21-19-12_041', '/home/yuanyu/projects/data/DaYanTa_2/8_C51/frames/2021-04-29_21-00-49_083', '/home/yuanyu/projects/data/DaYanTa_2/8_C51/frames/2021-04-29_21-55-51_051', '/home/yuanyu/projects/data/DaYanTa_2/8_C51/frames/2021-04-29_21-37-28_033', '/home/yuanyu/projects/data/DaYanTa_2/8_C51/frames/2021-04-29_21-19-12_100', '/home/yuanyu/projects/data/DaYanTa_2/8_C51/frames/2021-04-29_21-00-49_058', '/home/yuanyu/projects/data/DaYanTa_2/8_C51/frames/2021-04-29_20-05-43_000', '/home/yuanyu/projects/data/DaYanTa_2/8_C51/frames/2021-04-29_20-05-43_001', '/home/yuanyu/projects/data/DaYanTa_2/8_C51/frames/2021-04-29_20-05-43_002', '/home/yuanyu/projects/data/DaYanTa_2/8_C51/frames/2021-04-29_20-05-43_003', '/home/yuanyu/projects/data/DaYanTa_2/8_C51/frames/2021-04-29_20-05-43_004', '/home/yuanyu/projects/data/DaYanTa_2/8_C51/frames/2021-04-29_20-05-43_005', '/home/yuanyu/projects/data/DaYanTa_2/8_C51/frames/2021-04-29_20-05-43_006', '/home/yuanyu/projects/data/DaYanTa_2/8_C51/frames/2021-04-29_20-05-43_007', '/home/yuanyu/projects/data/DaYanTa_2/8_C51/frames/2021-04-29_20-05-43_008', '/home/yuanyu/projects/data/DaYanTa_2/8_C51/frames/2021-04-29_20-05-43_009', '/home/yuanyu/projects/data/DaYanTa_2/8_C51/frames/2021-04-29_21-37-28_063', '/home/yuanyu/projects/data/DaYanTa_2/8_C51/frames/2021-04-29_21-55-51_026', '/home/yuanyu/projects/data/DaYanTa_2/8_C51/frames/2021-04-29_21-55-51_027', '/home/yuanyu/projects/data/DaYanTa_2/8_C51/frames/2021-04-29_21-00-49_067', '/home/yuanyu/projects/data/DaYanTa_2/8_C51/frames/2021-04-29_21-55-51_078', '/home/yuanyu/projects/data/DaYanTa_2/8_C51/frames/2021-04-29_21-55-51_108', '/home/yuanyu/projects/data/DaYanTa_2/8_C51/frames/2021-04-29_21-55-51_110', '/home/yuanyu/projects/data/DaYanTa_2/8_C51/frames/2021-04-29_21-00-49_101', '/home/yuanyu/projects/data/DaYanTa_2/8_C51/frames/2021-04-29_21-00-49_084', '/home/yuanyu/projects/data/DaYanTa_2/8_C51/frames/2021-04-29_21-19-12_092', '/home/yuanyu/projects/data/DaYanTa_2/8_C51/frames/2021-04-29_21-37-28_070', '/home/yuanyu/projects/data/DaYanTa_2/8_C51/frames/2021-04-29_21-00-49_105', '/home/yuanyu/projects/data/DaYanTa_2/8_C51/frames/2021-04-29_21-55-51_038', '/home/yuanyu/projects/data/DaYanTa_2/8_C51/frames/2021-04-29_21-00-49_029', '/home/yuanyu/projects/data/DaYanTa_2/8_C51/frames/2021-04-29_21-19-12_067', '/home/yuanyu/projects/data/DaYanTa_2/8_C51/frames/2021-04-29_21-55-51_082', '/home/yuanyu/projects/data/DaYanTa_2/8_C51/frames/2021-04-29_21-37-28_061', '/home/yuanyu/projects/data/DaYanTa_2/8_C51/frames/2021-04-29_21-37-28_062', '/home/yuanyu/projects/data/DaYanTa_2/8_C51/frames/2021-04-29_21-55-51_062', '/home/yuanyu/projects/data/DaYanTa_2/8_C51/frames/2021-04-29_21-19-12_055', '/home/yuanyu/projects/data/DaYanTa_2/8_C51/frames/2021-04-29_21-55-51_064', '/home/yuanyu/projects/data/DaYanTa_2/8_C51/frames/2021-04-29_21-55-51_100', '/home/yuanyu/projects/data/DaYanTa_2/8_C51/frames/2021-04-29_20-05-43_011', '/home/yuanyu/projects/data/DaYanTa_2/8_C51/frames/2021-04-29_20-05-43_012', '/home/yuanyu/projects/data/DaYanTa_2/8_C51/frames/2021-04-29_20-05-43_013', '/home/yuanyu/projects/data/DaYanTa_2/8_C51/frames/2021-04-29_20-05-43_014', '/home/yuanyu/projects/data/DaYanTa_2/8_C51/frames/2021-04-29_20-05-43_015', '/home/yuanyu/projects/data/DaYanTa_2/8_C51/frames/2021-04-29_20-05-43_016', '/home/yuanyu/projects/data/DaYanTa_2/8_C51/frames/2021-04-29_20-05-43_017', '/home/yuanyu/projects/data/DaYanTa_2/8_C51/frames/2021-04-29_20-05-43_018', '/home/yuanyu/projects/data/DaYanTa_2/8_C51/frames/2021-04-29_20-05-43_019', '/home/yuanyu/projects/data/DaYanTa_2/8_C51/frames/2021-04-29_21-37-28_056', '/home/yuanyu/projects/data/DaYanTa_2/8_C51/frames/2021-04-29_21-00-49_048', '/home/yuanyu/projects/data/DaYanTa_2/8_C51/frames/2021-04-29_21-19-12_047']\n"
     ]
    }
   ],
   "source": [
    "all_video_path_list = glob.glob(str(frames_root / '*'))\n",
    "print(all_video_path_list)\n"
   ]
  },
  {
   "cell_type": "code",
   "execution_count": 39,
   "metadata": {},
   "outputs": [
    {
     "output_type": "stream",
     "name": "stdout",
     "text": [
      "{'2021-04-29_21-37-28_003', '2021-04-29_21-37-28_050', '2021-04-29_21-19-46_066', '2021-04-29_20-42-26_050', '2021-04-29_22-32-35_050', '2021-04-29_20-42-26_088', '2021-04-29_20-42-26_092', '2021-04-29_20-42-26_095', '2021-04-29_20-42-26_083', '2021-04-29_21-37-28_026', '2021-04-29_21-00-49_085', '2021-04-29_21-37-28_064', '2021-04-29_22-32-35_8639', '2021-04-29_22-32-35_028', '2021-04-29_20-42-26_096', '2021-04-29_21-19-46_036', '2021-04-29_21-19-46_067', '2021-04-29_21-00-49_099', '2021-04-29_22-32-35_063', '2021-04-29_22-14-14_104', '2021-04-29_21-00-49_054', '2021-04-29_21-19-46_048', '2021-04-29_21-37-28_046', '2021-04-29_20-42-26_035', '2021-04-29_22-32-35_012', '2021-04-29_21-37-28_066', '2021-04-29_21-19-46_038', '2021-04-29_22-14-14_074', '2021-04-29_21-37-28_031', '2021-04-29_21-37-28_044', '2021-04-29_21-00-49_087', '2021-04-29_20-42-26_026', '2021-04-29_20-42-26_098', '2021-04-29_22-32-35_057', '2021-04-29_20-42-26_028', '2021-04-29_21-55-51_056', '2021-04-29_21-19-46_040', '2021-04-29_22-14-14_105', '2021-04-29_20-42-26_099', '2021-04-29_21-55-51_043', '2021-04-29_21-55-51_039', '2021-04-29_21-19-46_041', '2021-04-29_21-37-28_048', '2021-04-29_21-55-51_023', '2021-04-29_21-37-28_063', '2021-04-29_22-14-14_101', '2021-04-29_21-19-46_089', '2021-04-29_22-32-35_001', '2021-04-29_21-19-46_049', '2021-04-29_21-37-28_047', '2021-04-29_20-42-26_091', '2021-04-29_22-32-35_058', '2021-04-29_21-55-51_044', '2021-04-29_21-55-51_040', '2021-04-29_21-19-46_051', '2021-04-29_21-19-46_084', '2021-04-29_21-19-46_035', '2021-04-29_21-00-49_084', '2021-04-29_22-32-35_064', '2021-04-29_21-37-28_052', '2021-04-29_20-42-26_097', '2021-04-29_22-32-35_8638', '2021-04-29_20-42-26_090', '2021-04-29_20-42-26_049', '2021-04-29_20-42-26_085', '2021-04-29_21-19-46_037', '2021-04-29_21-19-46_002', '2021-04-29_20-42-26_084', '2021-04-29_20-42-26_060', '2021-04-29_21-19-46_062', '2021-04-29_21-55-51_024', '2021-04-29_22-32-35_011', '2021-04-29_21-19-46_061', '2021-04-29_22-14-14_091', '2021-04-29_21-19-46_022', '2021-04-29_20-42-26_030', '2021-04-29_21-37-28_039', '2021-04-29_22-32-35_059', '2021-04-29_22-32-35_060', '2021-04-29_22-14-14_102', '2021-04-29_22-14-14_010', '2021-04-29_21-00-49_072', '2021-04-29_20-42-26_051', '2021-04-29_21-19-46_088', '2021-04-29_21-19-46_033', '2021-04-29_22-32-35_009', '2021-04-29_21-19-46_003', '2021-04-29_21-00-49_053', '2021-04-29_22-32-35_066', '2021-04-29_22-14-14_014', '2021-04-29_21-19-46_080', '2021-04-29_22-14-14_047', '2021-04-29_21-00-49_095', '2021-04-29_21-00-49_088', '2021-04-29_21-19-46_065', '2021-04-29_22-14-14_052', '2021-04-29_22-32-35_061', '2021-04-29_21-19-46_016', '2021-04-29_21-19-46_015', '2021-04-29_22-14-14_092', '2021-04-29_21-19-46_085', '2021-04-29_20-42-26_025', '2021-04-29_21-19-46_005', '2021-04-29_21-55-51_021', '2021-04-29_21-19-46_047', '2021-04-29_20-42-26_086', '2021-04-29_21-19-46_034', '2021-04-29_20-42-26_038', '2021-04-29_21-19-46_086', '2021-04-29_21-37-28_054', '2021-04-29_22-14-14_096', '2021-04-29_21-00-49_041', '2021-04-29_22-14-14_073', '2021-04-29_20-42-26_024', '2021-04-29_22-32-35_099', '2021-04-29_22-14-14_087', '2021-04-29_21-19-46_050', '2021-04-29_21-55-51_097', '2021-04-29_21-37-28_092', '2021-04-29_22-14-14_103', '2021-04-29_21-00-49_101', '2021-04-29_20-42-26_061', '2021-04-29_21-19-46_073', '2021-04-29_20-42-26_059', '2021-04-29_22-14-14_090', '2021-04-29_22-14-14_097', '2021-04-29_20-42-26_089', '2021-04-29_21-19-46_025', '2021-04-29_21-37-28_045', '2021-04-29_20-42-26_037', '2021-04-29_20-42-26_027', '2021-04-29_21-19-46_082', '2021-04-29_22-14-14_089', '2021-04-29_21-19-46_024', '2021-04-29_22-32-35_101', '2021-04-29_21-19-46_006', '2021-04-29_21-19-46_017', '2021-04-29_21-19-46_083', '2021-04-29_21-37-28_053', '2021-04-29_22-32-35_054', '2021-04-29_22-14-14_013', '2021-04-29_20-42-26_075', '2021-04-29_21-19-46_056', '2021-04-29_22-14-14_106', '2021-04-29_22-14-14_100', '2021-04-29_21-00-49_068', '2021-04-29_20-42-26_039', '2021-04-29_20-42-26_087', '2021-04-29_21-37-28_067', '2021-04-29_22-14-14_099', '2021-04-29_21-37-28_023', '2021-04-29_21-19-46_081', '2021-04-29_21-37-28_049', '2021-04-29_21-19-46_026', '2021-04-29_21-19-46_052', '2021-04-29_22-32-35_053', '2021-04-29_21-00-49_067', '2021-04-29_21-00-49_100', '2021-04-29_21-19-46_072', '2021-04-29_20-42-26_034', '2021-04-29_21-19-46_043', '2021-04-29_22-32-35_056', '2021-04-29_21-19-46_042', '2021-04-29_20-42-26_052', '2021-04-29_22-14-14_094', '2021-04-29_21-19-46_068', '2021-04-29_20-42-26_093', '2021-04-29_21-19-46_010', '2021-04-29_21-19-46_021', '2021-04-29_21-37-28_043', '2021-04-29_21-37-28_051', '2021-04-29_22-32-35_000', '2021-04-29_22-32-35_052', '2021-04-29_21-55-51_022', '2021-04-29_22-32-35_055', '2021-04-29_22-14-14_098', '2021-04-29_20-42-26_073', '2021-04-29_21-19-46_011', '2021-04-29_21-00-49_040', '2021-04-29_21-37-28_065', '2021-04-29_21-37-28_042', '2021-04-29_20-42-26_074', '2021-04-29_21-55-51_098', '2021-04-29_22-14-14_093', '2021-04-29_22-32-35_062', '2021-04-29_20-42-26_029', '2021-04-29_22-32-35_088', '2021-04-29_22-14-14_009', '2021-04-29_22-14-14_088', '2021-04-29_21-00-49_086', '2021-04-29_22-32-35_100', '2021-04-29_21-00-49_071', '2021-04-29_21-19-46_020', '2021-04-29_21-19-46_087', '2021-04-29_21-37-28_040', '2021-04-29_22-14-14_051', '2021-04-29_22-32-35_010', '2021-04-29_21-37-28_089', '2021-04-29_21-37-28_002', '2021-04-29_21-37-28_027', '2021-04-29_20-42-26_094', '2021-04-29_22-32-35_065', '2021-04-29_20-42-26_082', '2021-04-29_21-55-51_055', '2021-04-29_20-42-26_036', '2021-04-29_21-19-46_039', '2021-04-29_21-37-28_022', '2021-04-29_20-42-26_065'}\n"
     ]
    }
   ],
   "source": [
    "anomal_video_path_set = set(label_df.new_video)\n",
    "print(anomal_video_path_set)"
   ]
  },
  {
   "cell_type": "code",
   "execution_count": 40,
   "metadata": {},
   "outputs": [
    {
     "output_type": "stream",
     "name": "stdout",
     "text": [
      "2021-04-29_21-00-49_086\n2021-04-29_21-55-51_098\n2021-04-29_21-37-28_067\n2021-04-29_21-37-28_051\n2021-04-29_21-37-28_022\n2021-04-29_21-00-49_087\n2021-04-29_20-42-26_024\n2021-04-29_20-42-26_025\n2021-04-29_20-42-26_026\n2021-04-29_20-42-26_027\n2021-04-29_20-42-26_029\n2021-04-29_20-42-26_028\n2021-04-29_20-42-26_030\n2021-04-29_20-42-26_034\n2021-04-29_20-42-26_036\n2021-04-29_20-42-26_037\n2021-04-29_20-42-26_035\n2021-04-29_20-42-26_038\n2021-04-29_20-42-26_039\n2021-04-29_21-37-28_047\n2021-04-29_22-14-14_009\n2021-04-29_20-42-26_049\n2021-04-29_22-14-14_010\n2021-04-29_22-14-14_013\n2021-04-29_20-42-26_050\n2021-04-29_20-42-26_059\n2021-04-29_20-42-26_051\n2021-04-29_20-42-26_052\n2021-04-29_22-14-14_100\n2021-04-29_22-14-14_102\n2021-04-29_20-42-26_060\n2021-04-29_20-42-26_061\n2021-04-29_20-42-26_065\n2021-04-29_22-14-14_101\n2021-04-29_22-14-14_106\n2021-04-29_22-14-14_103\n2021-04-29_20-42-26_074\n2021-04-29_20-42-26_075\n2021-04-29_20-42-26_073\n2021-04-29_22-14-14_104\n2021-04-29_22-14-14_105\n2021-04-29_21-55-51_023\n2021-04-29_22-14-14_047\n2021-04-29_20-42-26_082\n2021-04-29_20-42-26_083\n2021-04-29_20-42-26_087\n2021-04-29_20-42-26_088\n2021-04-29_20-42-26_089\n2021-04-29_20-42-26_084\n2021-04-29_20-42-26_086\n2021-04-29_20-42-26_085\n2021-04-29_22-14-14_014\n2021-04-29_22-14-14_051\n2021-04-29_20-42-26_092\n2021-04-29_20-42-26_093\n2021-04-29_20-42-26_094\n2021-04-29_20-42-26_096\n2021-04-29_20-42-26_097\n2021-04-29_20-42-26_099\n2021-04-29_20-42-26_090\n2021-04-29_20-42-26_095\n2021-04-29_22-14-14_052\n2021-04-29_20-42-26_098\n2021-04-29_20-42-26_091\n2021-04-29_21-55-51_056\n2021-04-29_21-37-28_042\n2021-04-29_22-14-14_073\n2021-04-29_22-14-14_074\n2021-04-29_22-14-14_087\n2021-04-29_22-14-14_088\n2021-04-29_22-14-14_089\n2021-04-29_21-55-51_021\n2021-04-29_22-14-14_090\n2021-04-29_22-14-14_091\n2021-04-29_22-14-14_092\n2021-04-29_22-14-14_093\n2021-04-29_22-14-14_094\n2021-04-29_22-14-14_096\n2021-04-29_22-14-14_097\n2021-04-29_22-14-14_098\n2021-04-29_22-14-14_099\n2021-04-29_21-37-28_002\n2021-04-29_21-37-28_003\n2021-04-29_21-37-28_023\n2021-04-29_21-37-28_026\n2021-04-29_21-55-51_024\n2021-04-29_21-37-28_039\n2021-04-29_21-37-28_031\n2021-04-29_21-00-49_100\n2021-04-29_21-55-51_039\n2021-04-29_21-37-28_046\n2021-04-29_21-37-28_048\n2021-04-29_21-37-28_049\n2021-04-29_21-37-28_043\n2021-04-29_21-37-28_027\n2021-04-29_21-37-28_040\n2021-04-29_21-55-51_043\n2021-04-29_21-55-51_044\n2021-04-29_21-37-28_050\n2021-04-29_21-37-28_052\n2021-04-29_21-37-28_053\n2021-04-29_21-37-28_054\n2021-04-29_21-00-49_040\n2021-04-29_21-00-49_041\n2021-04-29_21-55-51_055\n2021-04-29_21-37-28_064\n2021-04-29_21-37-28_065\n2021-04-29_21-37-28_066\n2021-04-29_21-00-49_053\n2021-04-29_21-00-49_054\n2021-04-29_21-37-28_044\n2021-04-29_21-00-49_068\n2021-04-29_21-37-28_089\n2021-04-29_21-00-49_071\n2021-04-29_21-00-49_072\n2021-04-29_21-37-28_092\n2021-04-29_21-00-49_085\n2021-04-29_21-55-51_097\n2021-04-29_21-37-28_045\n2021-04-29_21-00-49_095\n2021-04-29_21-00-49_099\n2021-04-29_21-00-49_088\n2021-04-29_21-55-51_040\n2021-04-29_21-55-51_022\n2021-04-29_21-37-28_063\n2021-04-29_21-00-49_067\n2021-04-29_21-00-49_101\n2021-04-29_21-00-49_084\n"
     ]
    }
   ],
   "source": [
    "for video_path in all_video_path_list:\n",
    "    if str(video_path).split('/')[-1] in anomal_video_path_set:\n",
    "        print(str(video_path).split('/')[-1])"
   ]
  },
  {
   "cell_type": "code",
   "execution_count": null,
   "metadata": {},
   "outputs": [],
   "source": []
  }
 ]
}