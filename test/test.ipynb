{
 "metadata": {
  "language_info": {
   "codemirror_mode": {
    "name": "ipython",
    "version": 3
   },
   "file_extension": ".py",
   "mimetype": "text/x-python",
   "name": "python",
   "nbconvert_exporter": "python",
   "pygments_lexer": "ipython3",
   "version": "3.9.1"
  },
  "orig_nbformat": 2,
  "kernelspec": {
   "name": "python391jvsc74a57bd01cf78cca13970d80a338afa68b61a5f69aebb270b5c839e5bacde3a2a105ceb4",
   "display_name": "Python 3.9.1 64-bit ('pytorch17': conda)"
  }
 },
 "nbformat": 4,
 "nbformat_minor": 2,
 "cells": [
  {
   "source": [
    "# Transform the label files to be consistent with the directory"
   ],
   "cell_type": "markdown",
   "metadata": {}
  },
  {
   "source": [
    "## 1 import modules and set configs"
   ],
   "cell_type": "markdown",
   "metadata": {}
  },
  {
   "cell_type": "code",
   "execution_count": 7,
   "metadata": {},
   "outputs": [],
   "source": [
    "import pandas as pd\n",
    "import glob\n",
    "from pathlib import Path\n",
    "\n",
    "from easydict import EasyDict\n",
    "from torchvision import transforms"
   ]
  },
  {
   "cell_type": "code",
   "execution_count": 2,
   "metadata": {},
   "outputs": [],
   "source": [
    "from models.MNAD.model.utils import CustomDataLoader"
   ]
  },
  {
   "cell_type": "code",
   "execution_count": 8,
   "metadata": {},
   "outputs": [],
   "source": [
    "configs = EasyDict(\n",
    "    video_folder = '/home/yuanyu/projects/data/DaYanTa_2/8_C51/frames',\n",
    "    label_file_path = '/home/yuanyu/projects/dyt_VAD/label.csv',\n",
    "    transform = transforms.Compose([transforms.ToTensor()]),\n",
    "    resize_height = 256,\n",
    "    resize_width = 256,\n",
    "    time_step = 4,\n",
    "    num_pred = 1\n",
    ")\n"
   ]
  },
  {
   "source": [
    "## 2 Test my CustomDataLoader"
   ],
   "cell_type": "markdown",
   "metadata": {}
  },
  {
   "cell_type": "code",
   "execution_count": 9,
   "metadata": {},
   "outputs": [],
   "source": [
    "dataset = CustomDataLoader(**configs)"
   ]
  },
  {
   "cell_type": "code",
   "execution_count": 10,
   "metadata": {},
   "outputs": [
    {
     "output_type": "stream",
     "name": "stdout",
     "text": [
      "186698\n"
     ]
    }
   ],
   "source": [
    "print(len(dataset))"
   ]
  },
  {
   "cell_type": "code",
   "execution_count": 11,
   "metadata": {},
   "outputs": [
    {
     "output_type": "stream",
     "name": "stdout",
     "text": [
      "(15, 256, 256)\n",
      "(15, 256, 256)\n",
      "(15, 256, 256)\n",
      "(15, 256, 256)\n",
      "(15, 256, 256)\n",
      "(15, 256, 256)\n",
      "(15, 256, 256)\n",
      "(15, 256, 256)\n",
      "(15, 256, 256)\n",
      "(15, 256, 256)\n",
      "(15, 256, 256)\n"
     ]
    }
   ],
   "source": [
    "for i, batch in enumerate(dataset):\n",
    "    print(batch.shape)\n",
    "    if i == 10:\n",
    "        break\n"
   ]
  },
  {
   "cell_type": "code",
   "execution_count": null,
   "metadata": {},
   "outputs": [],
   "source": []
  }
 ]
}